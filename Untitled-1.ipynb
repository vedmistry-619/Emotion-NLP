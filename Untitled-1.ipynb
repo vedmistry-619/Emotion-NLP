{
 "metadata": {
  "language_info": {
   "codemirror_mode": {
    "name": "ipython",
    "version": 3
   },
   "file_extension": ".py",
   "mimetype": "text/x-python",
   "name": "python",
   "nbconvert_exporter": "python",
   "pygments_lexer": "ipython3",
   "version": "3.8.5"
  },
  "orig_nbformat": 2,
  "kernelspec": {
   "name": "python385jvsc74a57bd0c30e9587ab01b65989d0a6d4bbb96a0e32e3b50fec2e802141ac439de60587e1",
   "display_name": "Python 3.8.5 64-bit"
  }
 },
 "nbformat": 4,
 "nbformat_minor": 2,
 "cells": [
  {
   "cell_type": "code",
   "execution_count": 1,
   "metadata": {},
   "outputs": [],
   "source": [
    "import pandas as pd \n",
    "import numpy as np \n",
    "import matplotlib.pyplot as plt "
   ]
  },
  {
   "cell_type": "code",
   "execution_count": 3,
   "metadata": {},
   "outputs": [],
   "source": [
    "train = pd.read_csv('train.txt',sep=';',names=['Line','Emotion'])\n",
    "test = pd.read_csv('test.txt',sep=';',names=['Line','Emotion'])"
   ]
  },
  {
   "cell_type": "code",
   "execution_count": 4,
   "metadata": {},
   "outputs": [],
   "source": [
    "X = train['Line'].head(10)"
   ]
  },
  {
   "cell_type": "code",
   "execution_count": null,
   "metadata": {},
   "outputs": [],
   "source": [
    "from vaderSentiment.vaderSentiment import SentimentIntensityAnalyzer \n",
    "\n",
    "sentiment = list()\n",
    "for sentence in X:\n",
    "    sent_vader = list(SentimentIntensityAnalyzer().polarity_scores(sentence).values())\n",
    "    sentiment.append(sent_vader[3])\n",
    "\n",
    "sentiment_sentences = pd.DataFrame({'sentence':X,'sentiment':sentiment})"
   ]
  },
  {
   "cell_type": "code",
   "execution_count": null,
   "metadata": {},
   "outputs": [],
   "source": [
    "from pycorenlp import StanfordCoreNLP\n",
    "\n",
    "sentences = X\n",
    "sentiment = list()\n",
    "\n",
    "for sentence in sentences:\n",
    "    nlp = StanfordCoreNLP('http://localhost:9000')\n",
    "    sentiment_stanford = nlp.annotate(sentence, properties={'timeout': '500000','annotators': 'sentiment', 'outputFormat': 'json'})\n",
    "    sentiment_stanford = sentiment_stanford['sentences'][0]['sentimentValue']\n",
    "    sentiment.append(sentiment_stanford)\n",
    "\n",
    "sentiment_sentences = pd.DataFrame({'sentence':sentences,'sentiment':sentiment})\n",
    "labels = {\"0\": \"very negative\", \"1\": \"negative\", \"2\":\"neutral\", \"3\":\"positive\", \"4\":\"very positive\"}\n",
    "sentiment_sentences['sentiment'] = sentiment_sentences.sentiment.apply(lambda x: labels[x])\n",
    "\n",
    "sentiment_sentences.to_csv(\"stanfordnlp.csv\", sep = \";\", encoding=\"utf-8\",quotechar=\"'\",index=False)"
   ]
  },
  {
   "cell_type": "code",
   "execution_count": null,
   "metadata": {},
   "outputs": [],
   "source": []
  }
 ]
}